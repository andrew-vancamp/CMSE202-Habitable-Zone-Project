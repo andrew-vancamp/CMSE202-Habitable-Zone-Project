{
 "cells": [
  {
   "cell_type": "markdown",
   "id": "491b27b5",
   "metadata": {},
   "source": [
    "Sun Name, solar radius, effective temperature, solar type, solar luminosity "
   ]
  },
  {
   "cell_type": "code",
   "execution_count": 4,
   "id": "fc592e7c",
   "metadata": {},
   "outputs": [],
   "source": [
    "import numpy as np\n",
    "class Star:\n",
    "    '''\n",
    "    atributes:\n",
    "    \n",
    "        name: name of star\n",
    "        solar_radius: radius of star (in ROs (1 RO = Soloar Radius of the Sun))\n",
    "        temp: temperature of the star (in Kelvin)\n",
    "        solar_type: classification of star based on size and temperature\n",
    "        solar_luminosity: power given of by the star (in LO (1 LO = Solar Luminosity of the Sun))\n",
    "    '''\n",
    "    def __init__(self, name, solar_type, solar_radius = 0, temp = 0, solar_luminosity = 0):\n",
    "        self.name = name\n",
    "        self.solar_type = solar_type\n",
    "        self.solar_radius = solar_radius\n",
    "        self.temp = temp\n",
    "        self.solar_luminosity = solar_luminosity\n",
    "        \n",
    "    '''\n",
    "    methods:\n",
    "        \n",
    "        get_name: return name of the star\n",
    "        get_solar_type: return the solar type\n",
    "        get_solar_radius: return the solar radius \n",
    "        get_temp: return the temperature\n",
    "        get_solar_luminosity: return the solar luminosity\n",
    "        get_habitable_zone: return range of habitable for the star based on luminosity \n",
    "        \n",
    "        set_name: set the star's name\n",
    "        set_solar_type: set the solar type\n",
    "        set_solar_radius: set the solar radius \n",
    "        set_temp: set the temperature\n",
    "        set_solar_luminosity: set the solar luminosity\n",
    "    '''\n",
    "        \n",
    "    def get_name(self):\n",
    "        return self.name\n",
    "    \n",
    "    def get_solar_type(self):\n",
    "        return self.solar_type\n",
    "        \n",
    "    def get_solar_radius(self):\n",
    "        return self.solar_radius\n",
    "    \n",
    "    def get_temp(self):\n",
    "        return self.temp\n",
    "    \n",
    "    def get_solar_luminosity(self):\n",
    "        return self.solar_luminosity\n",
    "    \n",
    "    def set_name(self, name):\n",
    "        self.name = name\n",
    "        \n",
    "    def set_solar_type(self, solar_type):\n",
    "        self.solar_type = solar_type\n",
    "        \n",
    "    def set_solar_radius(self, solar_radius):\n",
    "        self.solar_radius = solar_radius\n",
    "    \n",
    "    def set_temp(self, temp):\n",
    "        self.temp = temp\n",
    "    \n",
    "    def set_solar_luminosity(self, solar_luminosity):\n",
    "        self.solar_luminosity = solar_luminosity\n",
    "    \n",
    "    def get_habitable_zone(self):\n",
    "        stef_boltz_const = 5.67 * 10**(-8)\n",
    "        min_radius = (self.solar_luminosity/(4*stef_boltz_const*(263)**4)*np.pi)**(1/2)\n",
    "        max_radius = (self.solar_luminosity/(4*stef_boltz_const*(383)**4)*np.pi)**(1/2)\n",
    "        return [min_radius,max_radius]"
   ]
  },
  {
   "cell_type": "code",
   "execution_count": 17,
   "id": "0b89614d",
   "metadata": {},
   "outputs": [
    {
     "data": {
      "text/plain": [
       "'\\nbetelguese = Star(\"Betelgeuse\", \"M1-2\", 887, 3500, 135000)\\n\\nprint(betelguese.get_name())\\nprint(betelguese.get_solar_type())\\nprint(betelguese.get_solar_radius(), \"RO\")\\nprint(betelguese.get_temp(), \"K\")\\nprint(betelguese.get_solar_luminosity(), \"LO\")\\n\\nprint(\"\\n\")\\n\\n\\nbetelguese.set_name(\"Alpha Orionis\")\\nbetelguese.set_solar_type(\"Red Supergiant\")\\nbetelguese.set_solar_radius(900)\\nbetelguese.set_temp(4000)\\nbetelguese.set_solar_luminosity(140000)\\n\\n\\nprint(betelguese.get_name())\\nprint(betelguese.get_solar_type())\\nprint(betelguese.get_solar_radius(), \"RO\")\\nprint(betelguese.get_temp(), \"K\")\\nprint(betelguese.get_solar_luminosity(), \"LO\")\\n'"
      ]
     },
     "execution_count": 17,
     "metadata": {},
     "output_type": "execute_result"
    }
   ],
   "source": [
    "#-----------Testing--------------#\n",
    "\n",
    "'''\n",
    "betelguese = Star(\"Betelgeuse\", \"M1-2\", 887, 3500, 135000)\n",
    "\n",
    "print(betelguese.get_name())\n",
    "print(betelguese.get_solar_type())\n",
    "print(betelguese.get_solar_radius(), \"RO\")\n",
    "print(betelguese.get_temp(), \"K\")\n",
    "print(betelguese.get_solar_luminosity(), \"LO\")\n",
    "\n",
    "print(\"\\n\")\n",
    "\n",
    "\n",
    "betelguese.set_name(\"Alpha Orionis\")\n",
    "betelguese.set_solar_type(\"Red Supergiant\")\n",
    "betelguese.set_solar_radius(900)\n",
    "betelguese.set_temp(4000)\n",
    "betelguese.set_solar_luminosity(140000)\n",
    "\n",
    "\n",
    "print(betelguese.get_name())\n",
    "print(betelguese.get_solar_type())\n",
    "print(betelguese.get_solar_radius(), \"RO\")\n",
    "print(betelguese.get_temp(), \"K\")\n",
    "print(betelguese.get_solar_luminosity(), \"LO\")\n",
    "'''"
   ]
  },
  {
   "cell_type": "code",
   "execution_count": null,
   "id": "9db3b765",
   "metadata": {},
   "outputs": [],
   "source": []
  }
 ],
 "metadata": {
  "kernelspec": {
   "display_name": "Python 3 (ipykernel)",
   "language": "python",
   "name": "python3"
  },
  "language_info": {
   "codemirror_mode": {
    "name": "ipython",
    "version": 3
   },
   "file_extension": ".py",
   "mimetype": "text/x-python",
   "name": "python",
   "nbconvert_exporter": "python",
   "pygments_lexer": "ipython3",
   "version": "3.9.12"
  }
 },
 "nbformat": 4,
 "nbformat_minor": 5
}
