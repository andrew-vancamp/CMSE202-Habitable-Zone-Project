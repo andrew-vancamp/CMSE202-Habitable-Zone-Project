{
 "cells": [
  {
   "cell_type": "code",
   "execution_count": 1,
   "id": "481d3dde",
   "metadata": {},
   "outputs": [],
   "source": [
    "import pandas as pd"
   ]
  },
  {
   "cell_type": "code",
   "execution_count": 2,
   "id": "d8dd7344",
   "metadata": {},
   "outputs": [],
   "source": [
    "GJ3292 = pd.read_csv('System GJ 3293.csv', delimiter = ',', skiprows = 94)\n",
    "TRAPPIST1 = pd.read_csv('System TRAPPIST-1.csv', delimiter = ',', skiprows = 93)\n",
    "HD23472 = pd.read_csv('System HD 23472.csv', delimiter = ',', skiprows = 94)"
   ]
  },
  {
   "cell_type": "code",
   "execution_count": 3,
   "id": "7543672c",
   "metadata": {},
   "outputs": [],
   "source": [
    "col_names = ['Planet Name', 'Host Name', 'Default Parameter Set', 'Number of Stars', 'Number of Planets', 'Solution Type', \n",
    "             'Controversial Flag', 'Planetary Parameter Reference', 'Orbital Period [days]', 'Orbital Period Upper Unc. [days]', \n",
    "             'Orbital Period Lower Unc. [days]', 'Orbital Period Limit Flag', 'Orbit Semi-Major Axis [au]', 'Orbit Semi-Major Axis Upper Unc. [au]',\n",
    "             'Orbit Semi-Major Axis Lower Unc. [au]', 'Orbit Semi-Major Axis Limit Flag', 'Planet Radius [Earth Radius]',\n",
    "             'Planet Radius Upper Unc. [Earth Radius]', 'Planet Radius Lower Unc. [Earth Radius]', 'Planet Radius Limit Flag',\n",
    "             'Planet Radius [Jupiter Radius]', 'Planet Radius Upper Unc. [Jupiter Radius]', 'Planet Radius Lower Unc. [Jupiter Radius]',\n",
    "             'Planet Radius Limit Flag', 'Planet Mass or Mass*sin(i) [Earth Mass]', 'Planet Mass or Mass*sin(i) [Earth Mass] Upper Unc.',\n",
    "             'Planet Mass or Mass*sin(i) [Earth Mass] Lower Unc.', 'Planet Mass or Mass*sin(i) [Earth Mass] Limit Flag',\n",
    "             'Eccentricity', 'Eccentricity Upper Unc.', 'Eccentricity Lower Unc.', 'Eccentricity Limit Flag', 'Insolation Flux [Earth Flux]',\n",
    "             'Insolation Flux Upper Unc. [Earth Flux]', 'Insolation Flux Lower Unc. [Earth Flux]', 'Insolation Flux Limit Flag',\n",
    "             'Equilibrium Temperature [K]', 'Equilibrium Temperature Upper Unc. [K]', 'Equilibrium Temperature Lower Unc. [K]',\n",
    "             'Equilibrium Temperature Limit Flag', 'Data show Transit Timing Variations', 'Stellar Parameter Reference',\n",
    "             'Spectral Type', 'Stellar Effective Temperature [K]', 'Stellar Effective Temperature Upper Unc. [K]', \n",
    "             'Stellar Effective Temperature Lower Unc. [K]', 'Stellar Effective Temperature Limit Flag', 'Stellar Radius [Solar Radius]',\n",
    "             'Stellar Radius Upper Unc. [Solar Radius]', 'Stellar Radius Lower Unc. [Solar Radius]', 'Stellar Radius Limit Flag',\n",
    "             'Stellar Mass [Solar mass]', 'Stellar Mass Upper Unc. [Solar mass]', 'Stellar Mass Lower Unc. [Solar mass]',\n",
    "             'Stellar Mass Limit Flag', 'Stellar Luminosity [log(Solar)]', 'Stellar Luminosity Upper Unc. [log(Solar)]', \n",
    "             'Stellar Luminosity Lower Unc. [log(Solar)]', 'Stellar Luminosity Limit Flag', 'Stellar Surface Gravity [log10(cm/s**2)]', \n",
    "             'Stellar Surface Gravity Upper Unc. [log10(cm/s**2)]', 'Stellar Surface Gravity Lower Unc. [log10(cm/s**2)]', \n",
    "             'Stellar Surface Gravity Limit Flag', 'System Parameter Reference', 'RA [sexagesimal]', 'RA [deg]', \n",
    "             'Dec [sexagesimal]', 'Dec [deg]', 'Distance [pc]', 'Distance [pc] Upper Unc', 'Distance [pc] Lower Unc', 'V (Johnson) Magnitude',\n",
    "             'V (Johnson) Magnitude Upper Unc', 'V (Johnson) Magnitude Lower Unc', 'Ks (2MASS) Magnitude', 'Ks (2MASS) Magnitude Upper Unc',\n",
    "             'Ks (2MASS) Magnitude Lower Unc', 'Gaia Magnitude', 'Gaia Magnitude Upper Unc', 'Gaia Magnitude Lower Unc', 'Date of Last Update',\n",
    "             'Planetary Parameter Reference Publication Date', 'Release Date']"
   ]
  },
  {
   "cell_type": "code",
   "execution_count": 4,
   "id": "7b1116cc",
   "metadata": {},
   "outputs": [],
   "source": [
    "GJ3292.columns = col_names\n",
    "TRAPPIST1.columns = col_names\n",
    "HD23472.columns = col_names\n",
    "\n",
    "drops = ['Default Parameter Set', 'Solution Type', 'Controversial Flag', 'Planetary Parameter Reference', 'Orbital Period Limit Flag', \n",
    "         'Orbit Semi-Major Axis Limit Flag', 'Planet Radius Limit Flag', 'Planet Radius [Jupiter Radius]', \n",
    "         'Planet Radius Upper Unc. [Jupiter Radius]', 'Planet Radius Lower Unc. [Jupiter Radius]', 'Planet Radius Limit Flag', \n",
    "         'Planet Mass or Mass*sin(i) [Earth Mass]', 'Planet Mass or Mass*sin(i) [Earth Mass] Upper Unc.',\n",
    "         'Planet Mass or Mass*sin(i) [Earth Mass] Lower Unc.', 'Planet Mass or Mass*sin(i) [Earth Mass] Limit Flag',\n",
    "         'Eccentricity Limit Flag', 'Insolation Flux Limit Flag', 'Equilibrium Temperature Limit Flag', \n",
    "         'Data show Transit Timing Variations', 'Stellar Parameter Reference', 'Stellar Effective Temperature Limit Flag', \n",
    "         'Stellar Radius Limit Flag','Stellar Mass Limit Flag', 'Stellar Luminosity Limit Flag', \n",
    "         'Stellar Surface Gravity Limit Flag', 'System Parameter Reference', 'RA [sexagesimal]', 'Dec [sexagesimal]', 'V (Johnson) Magnitude',\n",
    "         'V (Johnson) Magnitude Upper Unc', 'V (Johnson) Magnitude Lower Unc', 'Ks (2MASS) Magnitude', 'Ks (2MASS) Magnitude Upper Unc',\n",
    "         'Ks (2MASS) Magnitude Lower Unc', 'Gaia Magnitude', 'Gaia Magnitude Upper Unc', 'Gaia Magnitude Lower Unc', 'Date of Last Update',\n",
    "         'Planetary Parameter Reference Publication Date', 'Release Date']\n",
    "\n",
    "GJ3292_filt = GJ3292.drop(drops, axis = 1)\n",
    "TRAPPIST1_filt = TRAPPIST1.drop(drops, axis = 1)\n",
    "HD23472_filt = HD23472.drop(drops, axis = 1)\n"
   ]
  },
  {
   "cell_type": "code",
   "execution_count": 5,
   "id": "2c01da7b",
   "metadata": {},
   "outputs": [],
   "source": [
    "GJ3292_filt.to_csv('GJ3292_filt.csv')\n",
    "TRAPPIST1_filt.to_csv('TRAPPIST1_filt.csv')\n",
    "HD23472_filt.to_csv('HD23472_filt.csv')"
   ]
  }
 ],
 "metadata": {
  "kernelspec": {
   "display_name": "Python 3",
   "language": "python",
   "name": "python3"
  },
  "language_info": {
   "codemirror_mode": {
    "name": "ipython",
    "version": 3
   },
   "file_extension": ".py",
   "mimetype": "text/x-python",
   "name": "python",
   "nbconvert_exporter": "python",
   "pygments_lexer": "ipython3",
   "version": "3.8.8"
  }
 },
 "nbformat": 4,
 "nbformat_minor": 5
}
