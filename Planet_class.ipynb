{
 "cells": [
  {
   "cell_type": "code",
   "execution_count": null,
   "id": "24df5d86",
   "metadata": {},
   "outputs": [],
   "source": [
    ",Planet Name,Host Name,Number of Stars,Number of Planets,Orbital Period [days],Orbital Period Upper Unc. [days],Orbital Period Lower Unc. [days],Orbit Semi-Major Axis [au],Orbit Semi-Major Axis Upper Unc. [au],Orbit Semi-Major Axis Lower Unc. [au],Planet Radius [Earth Radius],Planet Radius Upper Unc. [Earth Radius],Planet Radius Lower Unc. [Earth Radius],Eccentricity,Eccentricity Upper Unc.,Eccentricity Lower Unc.,Insolation Flux [Earth Flux],Insolation Flux Upper Unc. [Earth Flux],Insolation Flux Lower Unc. [Earth Flux],Equilibrium Temperature [K],Equilibrium Temperature Upper Unc. [K],Equilibrium Temperature Lower Unc. [K],Spectral Type,Stellar Effective Temperature [K],Stellar Effective Temperature Upper Unc. [K],Stellar Effective Temperature Lower Unc. [K],Stellar Radius [Solar Radius],Stellar Radius Upper Unc. [Solar Radius],Stellar Radius Lower Unc. [Solar Radius],Stellar Mass [Solar mass],Stellar Mass Upper Unc. [Solar mass],Stellar Mass Lower Unc. [Solar mass],Stellar Luminosity [log(Solar)],Stellar Luminosity Upper Unc. [log(Solar)],Stellar Luminosity Lower Unc. [log(Solar)],Stellar Surface Gravity [log10(cm/s**2)],Stellar Surface Gravity Upper Unc. [log10(cm/s**2)],Stellar Surface Gravity Lower Unc. [log10(cm/s**2)],RA [deg],Dec [deg],Distance [pc],Distance [pc] Upper Unc,Distance [pc] Lower Unc"
   ]
  },
  {
   "cell_type": "code",
   "execution_count": null,
   "id": "d913f3fd",
   "metadata": {},
   "outputs": [],
   "source": [
    "def Planet():\n",
    "    \n",
    "    def _init_(self, name, host_name, orbital_period = 0, )\n",
    "    '''\n",
    "    atributes:\n",
    "    \n",
    "        name: name of the planet\n",
    "        host_name: name of the host star\n",
    "        orbital_period: orbital period of the planet\n",
    "    '''\n",
    "    "
   ]
  }
 ],
 "metadata": {
  "kernelspec": {
   "display_name": "Python 3",
   "language": "python",
   "name": "python3"
  },
  "language_info": {
   "codemirror_mode": {
    "name": "ipython",
    "version": 3
   },
   "file_extension": ".py",
   "mimetype": "text/x-python",
   "name": "python",
   "nbconvert_exporter": "python",
   "pygments_lexer": "ipython3",
   "version": "3.8.8"
  }
 },
 "nbformat": 4,
 "nbformat_minor": 5
}
