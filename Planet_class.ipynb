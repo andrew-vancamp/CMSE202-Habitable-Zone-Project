{
 "cells": [
  {
   "cell_type": "code",
   "execution_count": null,
   "id": "7fd50c70",
   "metadata": {},
   "outputs": [],
   "source": []
  },
  {
   "cell_type": "code",
   "execution_count": null,
   "id": "b7f539bb",
   "metadata": {},
   "outputs": [],
   "source": [
    "def Planet():\n",
    "    \n",
    "    def _init_(self, )\n",
    "    "
   ]
  }
 ],
 "metadata": {
  "kernelspec": {
   "display_name": "Python 3",
   "language": "python",
   "name": "python3"
  },
  "language_info": {
   "codemirror_mode": {
    "name": "ipython",
    "version": 3
   },
   "file_extension": ".py",
   "mimetype": "text/x-python",
   "name": "python",
   "nbconvert_exporter": "python",
   "pygments_lexer": "ipython3",
   "version": "3.8.8"
  }
 },
 "nbformat": 4,
 "nbformat_minor": 5
}
